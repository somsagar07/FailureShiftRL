{
 "cells": [
  {
   "cell_type": "markdown",
   "metadata": {},
   "source": [
    "This function can be used to calculate entropy of the system. You need to pass the episode actions and the correct actions and it will return the entropy of the system."
   ]
  },
  {
   "cell_type": "code",
   "execution_count": 2,
   "metadata": {},
   "outputs": [],
   "source": [
    "import math\n",
    "\n",
    "def calculate_entropy(episode_actions, correct_actions):\n",
    "    correct_counts = {}\n",
    "    for action, correct in zip(episode_actions, correct_actions):\n",
    "        if correct == 1:\n",
    "            if action in correct_counts:\n",
    "                correct_counts[action] += 1\n",
    "            else:\n",
    "                correct_counts[action] = 1\n",
    "\n",
    "    sorted_actions = sorted(correct_counts.keys())\n",
    "    sorted_counts = [correct_counts[action] for action in sorted_actions]\n",
    "\n",
    "    d = {}\n",
    "    for action, count in zip(sorted_actions, sorted_counts):\n",
    "        d[action] = count\n",
    "    \n",
    "    total = sum(d.values())\n",
    "    entropy = 0\n",
    "    for key in d:\n",
    "        p = d[key] / total\n",
    "        if p > 0:\n",
    "            entropy -= p * math.log2(p)\n",
    "    return entropy"
   ]
  }
 ],
 "metadata": {
  "kernelspec": {
   "display_name": "Python 3",
   "language": "python",
   "name": "python3"
  },
  "language_info": {
   "codemirror_mode": {
    "name": "ipython",
    "version": 3
   },
   "file_extension": ".py",
   "mimetype": "text/x-python",
   "name": "python",
   "nbconvert_exporter": "python",
   "pygments_lexer": "ipython3",
   "version": "3.10.9"
  }
 },
 "nbformat": 4,
 "nbformat_minor": 2
}
