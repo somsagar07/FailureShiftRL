{
 "cells": [
  {
   "cell_type": "markdown",
   "metadata": {},
   "source": [
    "These functions were used to calculate action probability shifts in the RL models. For continous action space you can use the continous_density_shift function while for discrete action space you can use the discrete_density_shift function. You only have to pass the actions taken by the agent with pretrained model and after finetuning and retraining the rl model what were new actions taken during the same rollouts. The function will return the plots of action probability shift for each action."
   ]
  },
  {
   "cell_type": "code",
   "execution_count": null,
   "metadata": {},
   "outputs": [],
   "source": [
    "import matplotlib.pyplot as plt\n",
    "import numpy as np\n",
    "from sklearn.neighbors import KernelDensity"
   ]
  },
  {
   "cell_type": "code",
   "execution_count": null,
   "metadata": {},
   "outputs": [],
   "source": [
    "def continous_density_shift(pretrained_actions, finetuned_actions):\n",
    "    # Assuming list1 and list2 are your data lists\n",
    "    list1 = np.array(pretrained_actions)  # Make sure these are numpy arrays\n",
    "    list2 = np.array(finetuned_actions)\n",
    "\n",
    "    # Reshaping data for KDE\n",
    "    list1 = list1.reshape(-1, 1)\n",
    "    list2 = list2.reshape(-1, 1)\n",
    "\n",
    "    # Setting up KDE for both datasets\n",
    "    kde1 = KernelDensity(kernel='gaussian', bandwidth=0.5).fit(list1)\n",
    "    kde2 = KernelDensity(kernel='gaussian', bandwidth=0.5).fit(list2)\n",
    "\n",
    "    # Creating an array of values to evaluate the KDE on\n",
    "    x_d = np.linspace(min(np.min(list1), np.min(list2)), max(np.max(list1), np.max(list2)), 1000)\n",
    "    x_d = x_d.reshape(-1, 1)\n",
    "\n",
    "    # Evaluating KDE for both sets\n",
    "    log_dens1 = kde1.score_samples(x_d)\n",
    "    log_dens2 = kde2.score_samples(x_d)\n",
    "\n",
    "    # Plotting\n",
    "    plt.fill_between(x_d[:, 0], np.exp(log_dens1), alpha=0.5, label='Pretrained')\n",
    "    plt.fill_between(x_d[:, 0], np.exp(log_dens2), alpha=0.5, label='Finetuned')\n",
    "\n",
    "    # Adding labels and title\n",
    "    plt.xlabel('Action', fontsize=14)\n",
    "    plt.ylabel('Probability', fontsize=14)\n",
    "    plt.title('Action Probability Shift', fontsize=14)\n",
    "\n",
    "    # Create legend & Show graphic\n",
    "    plt.legend(fontsize=11)\n",
    "    plt.show()\n",
    "\n",
    "def discrete_density_shift(pretrained_actions, finetuned_actions):\n",
    "    unique_actions_pre, action_counts_pre = np.unique(pretrained_actions, return_counts=True)\n",
    "    unique_actions_post, action_counts_post = np.unique(finetuned_actions, return_counts=True)\n",
    "\n",
    "    width = 0.4\n",
    "    space = 0\n",
    "\n",
    "    unique_actions_pre_adjusted = unique_actions_pre - (width + space) / 2\n",
    "    unique_actions_post_adjusted = unique_actions_post + (width + space) / 2\n",
    "\n",
    "    plt.bar(unique_actions_pre_adjusted, action_counts_pre, width, label='Pretrained')\n",
    "    plt.bar(unique_actions_post_adjusted, action_counts_post, width, label='Finetuned')\n",
    "    plt.xlabel('Action', fontsize=16)\n",
    "    plt.ylabel('Frequency', fontsize=16)\n",
    "    # plt.tick_params(axis='both', which='major', labelsize=14)\n",
    "    plt.legend()\n",
    "    plt.title('Discrete Actions Shift', fontsize=16)\n",
    "    plt.show()"
   ]
  }
 ],
 "metadata": {
  "kernelspec": {
   "display_name": "Python 3",
   "language": "python",
   "name": "python3"
  },
  "language_info": {
   "codemirror_mode": {
    "name": "ipython",
    "version": 3
   },
   "file_extension": ".py",
   "mimetype": "text/x-python",
   "name": "python",
   "nbconvert_exporter": "python",
   "pygments_lexer": "ipython3",
   "version": "3.10.9"
  }
 },
 "nbformat": 4,
 "nbformat_minor": 2
}
