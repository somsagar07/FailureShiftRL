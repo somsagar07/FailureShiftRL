{
 "cells": [
  {
   "cell_type": "code",
   "execution_count": null,
   "metadata": {},
   "outputs": [],
   "source": [
    "import numpy as np\n",
    "from skopt import gp_minimize\n",
    "from skopt.space import Real, Integer\n",
    "from skopt.utils import use_named_args\n",
    "from torchvision import models, transforms\n",
    "from PIL import Image\n",
    "from torchvision.datasets import ImageFolder\n",
    "from torch.utils.data import DataLoader\n",
    "import torch"
   ]
  },
  {
   "cell_type": "code",
   "execution_count": null,
   "metadata": {},
   "outputs": [],
   "source": [
    "model = models.alexnet(weights=\"IMAGENET1K_V1\")\n",
    "model.eval() # Set the model to evaluation mode\n",
    "\n",
    "# Define the transformation space\n",
    "space = [\n",
    "    Integer(-10, 10, name='rotation'),  # Range of rotation angles\n",
    "    Real(0.1, 0.9, name='darken'),  # Range of darkening factors\n",
    "    Real(0.5, 1.5, name='saturation')  # Range of saturation factors\n",
    "]"
   ]
  },
  {
   "cell_type": "code",
   "execution_count": null,
   "metadata": {},
   "outputs": [],
   "source": [
    "\n",
    "dataset_path = '../Dataset/imagenet-mini/train'\n",
    "dataset = ImageFolder(root=dataset_path, transform=transforms.Compose([\n",
    "    transforms.Resize((224, 224)),\n",
    "    transforms.ToTensor()\n",
    "]))\n",
    "dataloader = DataLoader(dataset, batch_size=1, shuffle=True)\n"
   ]
  },
  {
   "cell_type": "code",
   "execution_count": null,
   "metadata": {},
   "outputs": [],
   "source": [
    "def objective(params):\n",
    "    rotation, darken, saturation = params\n",
    "\n",
    "    # Select a random image from the dataset\n",
    "    img, _ = next(iter(dataloader))\n",
    "    img = transforms.ToPILImage()(img.squeeze(0))\n",
    "\n",
    "    # Apply custom transformations\n",
    "    img = img.rotate(rotation)  # Rotate the image\n",
    "    img = transforms.functional.adjust_brightness(img, darken)  # Darken the image\n",
    "    img = transforms.functional.adjust_saturation(img, saturation)  # Adjust saturation\n",
    "\n",
    "    transform = transforms.Compose([\n",
    "        transforms.ToTensor(),\n",
    "        transforms.Normalize(mean=[0.485, 0.456, 0.406], std=[0.229, 0.224, 0.225]),\n",
    "    ])\n",
    "    img = transform(img)  # Apply the standard pre-processing\n",
    "\n",
    "    # Add batch dimension and send to model\n",
    "    img = img.unsqueeze(0)\n",
    "    output = model(img)\n",
    "    \n",
    "    # Calculate failure metric\n",
    "    \n",
    "    failure_metric = -output.max().item()  # Negative sign because we're minimizing\n",
    "\n",
    "    print(failure_metric)\n",
    "    \n",
    "    return failure_metric"
   ]
  },
  {
   "cell_type": "code",
   "execution_count": null,
   "metadata": {},
   "outputs": [],
   "source": [
    "# Run Bayesian Optimization\n",
    "res_gp = gp_minimize(objective, space, n_calls=500, random_state=0)\n",
    "\n",
    "# Results\n",
    "print(\"Best parameters: {}\".format(res_gp.x))\n",
    "print(\"Best objective: {}\".format(res_gp.fun))"
   ]
  },
  {
   "cell_type": "code",
   "execution_count": null,
   "metadata": {},
   "outputs": [],
   "source": [
    "import matplotlib.pyplot as plt\n",
    "import numpy as np\n",
    "\n",
    "# Objective function values over iterations\n",
    "plt.figure(figsize=(12, 6))\n",
    "plt.plot(res_gp.func_vals)\n",
    "plt.xlabel('Iteration')\n",
    "plt.ylabel('Objective Function Value')\n",
    "plt.title('Model Failure Metric Over Iterations')\n",
    "plt.grid(True)\n",
    "plt.show()\n",
    "\n",
    "# Parameter values over iterations\n",
    "fig, axs = plt.subplots(1, 3, figsize=(18, 5))\n",
    "parameters = np.array(res_gp.x_iters)\n",
    "objective_values = res_gp.func_vals\n",
    "\n",
    "# Rotation\n",
    "axs[0].scatter(range(len(parameters)), parameters[:, 0], c=objective_values, cmap='viridis')\n",
    "axs[0].set_title('Rotation Angle Over Iterations')\n",
    "axs[0].set_xlabel('Iteration')\n",
    "axs[0].set_ylabel('Rotation Angle')\n",
    "\n",
    "# Darken\n",
    "axs[1].scatter(range(len(parameters)), parameters[:, 1], c=objective_values, cmap='viridis')\n",
    "axs[1].set_title('Darken Factor Over Iterations')\n",
    "axs[1].set_xlabel('Iteration')\n",
    "axs[1].set_ylabel('Darken Factor')\n",
    "\n",
    "# Saturation\n",
    "axs[2].scatter(range(len(parameters)), parameters[:, 2], c=objective_values, cmap='viridis')\n",
    "axs[2].set_title('Saturation Factor Over Iterations')\n",
    "axs[2].set_xlabel('Iteration')\n",
    "axs[2].set_ylabel('Saturation Factor')\n",
    "\n",
    "for ax in axs:\n",
    "    ax.grid(True)\n",
    "\n",
    "plt.colorbar(axs[2].scatter(range(len(parameters)), parameters[:, 2], c=objective_values, cmap='viridis'), ax=axs, orientation='vertical', label='Objective Function Value')\n",
    "plt.show()\n"
   ]
  },
  {
   "cell_type": "code",
   "execution_count": null,
   "metadata": {},
   "outputs": [],
   "source": []
  }
 ],
 "metadata": {
  "kernelspec": {
   "display_name": "som",
   "language": "python",
   "name": "python3"
  },
  "language_info": {
   "codemirror_mode": {
    "name": "ipython",
    "version": 3
   },
   "file_extension": ".py",
   "mimetype": "text/x-python",
   "name": "python",
   "nbconvert_exporter": "python",
   "pygments_lexer": "ipython3",
   "version": "3.10.13"
  }
 },
 "nbformat": 4,
 "nbformat_minor": 2
}
