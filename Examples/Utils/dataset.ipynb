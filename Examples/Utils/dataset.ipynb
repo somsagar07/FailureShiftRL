{
 "cells": [
  {
   "cell_type": "markdown",
   "metadata": {},
   "source": [
    "# Download ImageNet 1k dataset"
   ]
  },
  {
   "cell_type": "code",
   "execution_count": null,
   "metadata": {},
   "outputs": [],
   "source": [
    "import json\n",
    "import os\n",
    "import shutil"
   ]
  },
  {
   "cell_type": "markdown",
   "metadata": {},
   "source": [
    "Kaggle config file is required to download the dataset. You can create one by going to your account settings and clicking on \"Create New API Token\". Then upload the file to the notebook."
   ]
  },
  {
   "cell_type": "code",
   "execution_count": null,
   "metadata": {},
   "outputs": [],
   "source": [
    "! kaggle datasets download -d ifigotin/imagenetmini-1000"
   ]
  },
  {
   "cell_type": "markdown",
   "metadata": {},
   "source": [
    "After downloading the dataset, we will extract the files and place them in the Dataset folder. Then we will follow with renaming the folders to make it sense for other notebooks."
   ]
  },
  {
   "cell_type": "code",
   "execution_count": null,
   "metadata": {},
   "outputs": [],
   "source": [
    "with open(\"in_cls_idx.json\", \"r\") as f:\n",
    "    imagenet_id_to_name = {label: int(cls_id) for cls_id, (label, name) in json.load(f).items()}\n",
    "\n",
    "mapping = dict(sorted(imagenet_id_to_name.items()))"
   ]
  },
  {
   "cell_type": "code",
   "execution_count": null,
   "metadata": {},
   "outputs": [],
   "source": [
    "# Replace it with your train path\n",
    "directory_path = '../Dataset/imagenet-mini/train'\n",
    "\n",
    "for old_folder_name in os.listdir(directory_path):\n",
    "    old_file_name = old_folder_name\n",
    "    new_file_name = mapping.get(old_folder_name)\n",
    "\n",
    "    if new_file_name < 10:\n",
    "        new_file_name = f\"00{new_file_name}\"\n",
    "    elif new_file_name < 100:\n",
    "        new_file_name = f\"0{new_file_name}\"\n",
    "    else:\n",
    "        new_file_name = f\"{new_file_name}\"\n",
    "\n",
    "    # Check if the new file name exists in label_mapping\n",
    "    if new_file_name is not None:\n",
    "        old_file_path = directory_path + '/' + str(old_file_name)\n",
    "        new_file_path = directory_path + '/' + str(new_file_name)\n",
    "        print(f'Replacing {old_file_path} with {new_file_path}')\n",
    "\n",
    "        # Check if the new file path already exists\n",
    "        if not os.path.exists(new_file_path):\n",
    "            os.rename(old_file_path, new_file_path)\n",
    "        else:\n",
    "            print(f\"File '{new_file_name}' already exists. Skipping renaming.\")\n",
    "    else:\n",
    "        print(f\"No mapping found for folder '{old_folder_name}'. Skipping renaming.\")\n",
    "\n",
    "print(\"Folder names replacement in the 'train' directory is complete.\")"
   ]
  },
  {
   "cell_type": "code",
   "execution_count": null,
   "metadata": {},
   "outputs": [],
   "source": [
    "source_dir = '../Dataset/imagenet-mini/train'\n",
    "destination_dir = '../Dataset/combined_images'\n",
    "\n",
    "if not os.path.exists(destination_dir):\n",
    "    os.makedirs(destination_dir)\n",
    "\n",
    "\n",
    "for root, dirs, files in os.walk(source_dir):\n",
    "    for filename in files:\n",
    "        source_file = os.path.join(root, filename)\n",
    "        parent_folder = os.path.basename(root)\n",
    "        new_filename = f\"{parent_folder}_{filename}\"\n",
    "        destination_file = os.path.join(destination_dir, new_filename)\n",
    "        shutil.copy(source_file, destination_file)\n",
    "\n",
    "print(\"Images have been combined and renamed in the destination directory.\")"
   ]
  }
 ],
 "metadata": {
  "kernelspec": {
   "display_name": "Python 3",
   "language": "python",
   "name": "python3"
  },
  "language_info": {
   "codemirror_mode": {
    "name": "ipython",
    "version": 3
   },
   "file_extension": ".py",
   "mimetype": "text/x-python",
   "name": "python",
   "nbconvert_exporter": "python",
   "pygments_lexer": "ipython3",
   "version": "3.10.9"
  }
 },
 "nbformat": 4,
 "nbformat_minor": 2
}
